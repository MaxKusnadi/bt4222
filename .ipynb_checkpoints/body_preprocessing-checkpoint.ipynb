{
 "cells": [
  {
   "cell_type": "code",
   "execution_count": 1,
   "metadata": {
    "collapsed": true,
    "deletable": true,
    "editable": true
   },
   "outputs": [],
   "source": [
    "import pandas as pd\n",
    "from bs4 import BeautifulSoup\n",
    "\n",
    "ORIGINAL_DATASET = \"data/data/python_answers.csv\"\n",
    "TARGET_DATASET = \"data/data/python_answers_new.csv\"\n",
    "\n",
    "data = pd.read_csv(ORIGINAL_DATASET, encoding='latin1')\n",
    "\n",
    "def get_string(text):\n",
    "    soup = BeautifulSoup(text, 'html.parser')\n",
    "    lst = []\n",
    "    for p in soup.find_all('p'):\n",
    "        lst.extend(list(map(lambda x: x.string if x.string else \"\", p.children)))\n",
    "    return \"\".join(lst)\n",
    "\n",
    "def is_code_present(text):\n",
    "    soup = BeautifulSoup(text, 'html.parser')\n",
    "    return 1 if soup.pre else 0\n",
    "\n",
    "data['full_text'] = data['Body'].apply(get_string)\n",
    "\n",
    "data['is_code_present'] = data['Body'].apply(is_code_present)\n",
    "\n",
    "data.to_csv(TARGET_DATASET)"
   ]
  },
  {
   "cell_type": "code",
   "execution_count": 17,
   "metadata": {
    "collapsed": false,
    "deletable": true,
    "editable": true
   },
   "outputs": [
    {
     "data": {
      "text/html": [
       "<div>\n",
       "<table border=\"1\" class=\"dataframe\">\n",
       "  <thead>\n",
       "    <tr style=\"text-align: right;\">\n",
       "      <th></th>\n",
       "      <th>Id</th>\n",
       "      <th>OwnerUserId</th>\n",
       "      <th>CreationDate</th>\n",
       "      <th>ParentId</th>\n",
       "      <th>Score</th>\n",
       "      <th>Body</th>\n",
       "      <th>full_text</th>\n",
       "      <th>is_code_present</th>\n",
       "    </tr>\n",
       "  </thead>\n",
       "  <tbody>\n",
       "    <tr>\n",
       "      <th>0</th>\n",
       "      <td>497</td>\n",
       "      <td>50.0</td>\n",
       "      <td>2008-08-02T16:56:53Z</td>\n",
       "      <td>469</td>\n",
       "      <td>4</td>\n",
       "      <td>&lt;p&gt;open up a terminal (Applications-&amp;gt;Utilit...</td>\n",
       "      <td>open up a terminal (Applications-&gt;Utilities-&gt;T...</td>\n",
       "      <td>1</td>\n",
       "    </tr>\n",
       "    <tr>\n",
       "      <th>1</th>\n",
       "      <td>518</td>\n",
       "      <td>153.0</td>\n",
       "      <td>2008-08-02T17:42:28Z</td>\n",
       "      <td>469</td>\n",
       "      <td>2</td>\n",
       "      <td>&lt;p&gt;I haven't been able to find anything that d...</td>\n",
       "      <td>I haven't been able to find anything that does...</td>\n",
       "      <td>0</td>\n",
       "    </tr>\n",
       "    <tr>\n",
       "      <th>2</th>\n",
       "      <td>536</td>\n",
       "      <td>161.0</td>\n",
       "      <td>2008-08-02T18:49:07Z</td>\n",
       "      <td>502</td>\n",
       "      <td>9</td>\n",
       "      <td>&lt;p&gt;You can use ImageMagick's convert utility f...</td>\n",
       "      <td>You can use ImageMagick's convert utility for ...</td>\n",
       "      <td>1</td>\n",
       "    </tr>\n",
       "    <tr>\n",
       "      <th>3</th>\n",
       "      <td>538</td>\n",
       "      <td>156.0</td>\n",
       "      <td>2008-08-02T18:56:56Z</td>\n",
       "      <td>535</td>\n",
       "      <td>23</td>\n",
       "      <td>&lt;p&gt;One possibility is Hudson.  It's written in...</td>\n",
       "      <td>One possibility is Hudson.  It's written in Ja...</td>\n",
       "      <td>0</td>\n",
       "    </tr>\n",
       "    <tr>\n",
       "      <th>4</th>\n",
       "      <td>541</td>\n",
       "      <td>157.0</td>\n",
       "      <td>2008-08-02T19:06:40Z</td>\n",
       "      <td>535</td>\n",
       "      <td>20</td>\n",
       "      <td>&lt;p&gt;We run &lt;a href=\"http://buildbot.net/trac\"&gt;B...</td>\n",
       "      <td>We run Buildbot - Trac at work, I haven't used...</td>\n",
       "      <td>0</td>\n",
       "    </tr>\n",
       "  </tbody>\n",
       "</table>\n",
       "</div>"
      ],
      "text/plain": [
       "    Id  OwnerUserId          CreationDate  ParentId  Score  \\\n",
       "0  497         50.0  2008-08-02T16:56:53Z       469      4   \n",
       "1  518        153.0  2008-08-02T17:42:28Z       469      2   \n",
       "2  536        161.0  2008-08-02T18:49:07Z       502      9   \n",
       "3  538        156.0  2008-08-02T18:56:56Z       535     23   \n",
       "4  541        157.0  2008-08-02T19:06:40Z       535     20   \n",
       "\n",
       "                                                Body  \\\n",
       "0  <p>open up a terminal (Applications-&gt;Utilit...   \n",
       "1  <p>I haven't been able to find anything that d...   \n",
       "2  <p>You can use ImageMagick's convert utility f...   \n",
       "3  <p>One possibility is Hudson.  It's written in...   \n",
       "4  <p>We run <a href=\"http://buildbot.net/trac\">B...   \n",
       "\n",
       "                                           full_text  is_code_present  \n",
       "0  open up a terminal (Applications->Utilities->T...                1  \n",
       "1  I haven't been able to find anything that does...                0  \n",
       "2  You can use ImageMagick's convert utility for ...                1  \n",
       "3  One possibility is Hudson.  It's written in Ja...                0  \n",
       "4  We run Buildbot - Trac at work, I haven't used...                0  "
      ]
     },
     "execution_count": 17,
     "metadata": {},
     "output_type": "execute_result"
    }
   ],
   "source": [
    "data.head()"
   ]
  },
  {
   "cell_type": "code",
   "execution_count": 24,
   "metadata": {
    "collapsed": false,
    "deletable": true,
    "editable": true
   },
   "outputs": [
    {
     "name": "stdout",
     "output_type": "stream",
     "text": [
      "<p>open up a terminal (Applications-&gt;Utilities-&gt;Terminal) and type this in:</p>\r\n",
      "\r\n",
      "<pre><code>locate InsertFontHere<br></code></pre>\r\n",
      "\r\n",
      "<p>This will spit out every file that has the name you want.</p>\r\n",
      "\r\n",
      "<p>Warning: there may be alot to wade through.</p>\n",
      "###################################\n",
      "open up a terminal (Applications->Utilities->Terminal) and type this in:This will spit out every file that has the name you want.Warning: there may be alot to wade through.\n"
     ]
    }
   ],
   "source": [
    "print(data.loc[0]['Body'])\n",
    "print('###################################')\n",
    "print(data.loc[0]['full_text'])\n"
   ]
  },
  {
   "cell_type": "code",
   "execution_count": 26,
   "metadata": {
    "collapsed": false,
    "deletable": true,
    "editable": true
   },
   "outputs": [
    {
     "name": "stdout",
     "output_type": "stream",
     "text": [
      "<p>We run <a href=\"http://buildbot.net/trac\">Buildbot - Trac</a> at work, I haven't used it too much since my code base isn't part of the release cycle yet. But we run the tests on different environments (OSX/Linux/Win) and it sends emails --and it's written in python.</p>\n",
      "###################################\n",
      "We run Buildbot - Trac at work, I haven't used it too much since my code base isn't part of the release cycle yet. But we run the tests on different environments (OSX/Linux/Win) and it sends emails --and it's written in python.\n"
     ]
    }
   ],
   "source": [
    "print(data.loc[4]['Body'])\n",
    "print('###################################')\n",
    "print(data.loc[4]['full_text'])"
   ]
  },
  {
   "cell_type": "code",
   "execution_count": 27,
   "metadata": {
    "collapsed": false
   },
   "outputs": [
    {
     "name": "stdout",
     "output_type": "stream",
     "text": [
      "<p>In addition to calling os._exit() to avoid the registered exit handler you also need to catch the unhandled exception:</p>\n",
      "\n",
      "<pre><code>import atexit\n",
      "import os\n",
      "\n",
      "def helloworld():\n",
      "    print \"Hello World!\"\n",
      "\n",
      "atexit.register(helloworld)    \n",
      "\n",
      "try:\n",
      "    raise Exception(\"Good bye cruel world!\")\n",
      "\n",
      "except Exception, e:\n",
      "    print 'caught unhandled exception', str(e)\n",
      "\n",
      "    os._exit(1)\n",
      "</code></pre>\n",
      "\n",
      "###################################\n",
      "In addition to calling os._exit() to avoid the registered exit handler you also need to catch the unhandled exception:\n"
     ]
    }
   ],
   "source": [
    "print(data.loc[1024]['Body'])\n",
    "print('###################################')\n",
    "print(data.loc[1024]['full_text'])"
   ]
  },
  {
   "cell_type": "code",
   "execution_count": null,
   "metadata": {
    "collapsed": true
   },
   "outputs": [],
   "source": []
  }
 ],
 "metadata": {
  "kernelspec": {
   "display_name": "Python 3",
   "language": "python",
   "name": "python3"
  },
  "language_info": {
   "codemirror_mode": {
    "name": "ipython",
    "version": 3
   },
   "file_extension": ".py",
   "mimetype": "text/x-python",
   "name": "python",
   "nbconvert_exporter": "python",
   "pygments_lexer": "ipython3",
   "version": "3.5.2"
  }
 },
 "nbformat": 4,
 "nbformat_minor": 2
}
