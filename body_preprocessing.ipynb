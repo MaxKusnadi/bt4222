{
 "cells": [
  {
   "cell_type": "code",
   "execution_count": 1,
   "metadata": {
    "collapsed": true
   },
   "outputs": [],
   "source": [
    "import pandas as pd\n",
    "from bs4 import BeautifulSoup\n",
    "\n",
    "ORIGINAL_DATASET = \"path/dataset.csv\"\n",
    "TARGET_DATASET = \"path/dataset2.csv\"\n",
    "\n",
    "data = pd.read_csv(ORIGINAL_DATASET, encoding='latin1')\n",
    "\n",
    "def get_string(text):\n",
    "    soup = BeautifulSoup(text, 'html.parser')\n",
    "    lst = []\n",
    "    for p in soup.find_all('p'):\n",
    "        lst.extend(list(map(lambda x: x.string if x.string else \"\", p.children)))\n",
    "    return \"\".join(lst)\n",
    "\n",
    "def is_code_present(text):\n",
    "    soup = BeautifulSoup(text, 'html.parser')\n",
    "    return 1 if soup.pre else 0\n",
    "\n",
    "data['full_text'] = data['Body'].apply(get_string)\n",
    "\n",
    "data['is_code_present'] = data['Body'].apply(is_code_present)\n",
    "\n",
    "data.to_csv(TARGET_DATASET)"
   ]
  }
 ],
 "metadata": {
  "kernelspec": {
   "display_name": "Python 3",
   "language": "python",
   "name": "python3"
  },
  "language_info": {
   "codemirror_mode": {
    "name": "ipython",
    "version": 3
   },
   "file_extension": ".py",
   "mimetype": "text/x-python",
   "name": "python",
   "nbconvert_exporter": "python",
   "pygments_lexer": "ipython3",
   "version": "3.5.2"
  }
 },
 "nbformat": 4,
 "nbformat_minor": 2
}
