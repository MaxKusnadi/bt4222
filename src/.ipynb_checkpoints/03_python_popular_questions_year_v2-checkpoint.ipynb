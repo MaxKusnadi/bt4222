{
 "cells": [
  {
   "cell_type": "markdown",
   "metadata": {},
   "source": [
    "# Loading the data\n",
    "\n",
    "As usual, we load the data using my favourite package `pandas`"
   ]
  },
  {
   "cell_type": "code",
   "execution_count": 6,
   "metadata": {
    "collapsed": true,
    "deletable": true,
    "editable": true
   },
   "outputs": [],
   "source": [
    "import pandas as pd\n",
    "\n",
    "ORIGINAL_DATASET = \"../data/python_questions_new.csv\"\n",
    "data = pd.read_csv(ORIGINAL_DATASET, encoding='latin1')\n",
    "\n",
    "# Some data type conversions\n",
    "data['full_text'] = data['full_text'].astype(str)\n",
    "data['CreationDate'] = pd.to_datetime(data['CreationDate'], format=\"%Y-%m-%dT%H:%M:%SZ\")\n",
    "\n",
    "# Extracting the year\n",
    "def find_year(date):\n",
    "    return date.year\n",
    "\n",
    "data['year'] = data['CreationDate'].apply(find_year)"
   ]
  },
  {
   "cell_type": "code",
   "execution_count": 7,
   "metadata": {
    "collapsed": false
   },
   "outputs": [
    {
     "data": {
      "text/html": [
       "<div>\n",
       "<table border=\"1\" class=\"dataframe\">\n",
       "  <thead>\n",
       "    <tr style=\"text-align: right;\">\n",
       "      <th></th>\n",
       "      <th>Id</th>\n",
       "      <th>OwnerUserId</th>\n",
       "      <th>CreationDate</th>\n",
       "      <th>Score</th>\n",
       "      <th>Title</th>\n",
       "      <th>Body</th>\n",
       "      <th>Number of Answers</th>\n",
       "      <th>Tags</th>\n",
       "      <th>full_text</th>\n",
       "      <th>is_code_present</th>\n",
       "      <th>year</th>\n",
       "    </tr>\n",
       "  </thead>\n",
       "  <tbody>\n",
       "    <tr>\n",
       "      <th>0</th>\n",
       "      <td>469</td>\n",
       "      <td>147.0</td>\n",
       "      <td>2008-08-02 15:11:16</td>\n",
       "      <td>21</td>\n",
       "      <td>How can I find the full path to a font from it...</td>\n",
       "      <td>&lt;p&gt;I am using the Photoshop's javascript API t...</td>\n",
       "      <td>4.0</td>\n",
       "      <td>['python', 'osx', 'fonts', 'photoshop']</td>\n",
       "      <td>I am using the Photoshop's javascript API to f...</td>\n",
       "      <td>0</td>\n",
       "      <td>2008</td>\n",
       "    </tr>\n",
       "    <tr>\n",
       "      <th>1</th>\n",
       "      <td>502</td>\n",
       "      <td>147.0</td>\n",
       "      <td>2008-08-02 17:01:58</td>\n",
       "      <td>27</td>\n",
       "      <td>Get a preview JPEG of a PDF on Windows?</td>\n",
       "      <td>&lt;p&gt;I have a cross-platform (Python) applicatio...</td>\n",
       "      <td>3.0</td>\n",
       "      <td>['python', 'windows', 'image', 'pdf']</td>\n",
       "      <td>I have a cross-platform (Python) application w...</td>\n",
       "      <td>0</td>\n",
       "      <td>2008</td>\n",
       "    </tr>\n",
       "    <tr>\n",
       "      <th>2</th>\n",
       "      <td>535</td>\n",
       "      <td>154.0</td>\n",
       "      <td>2008-08-02 18:43:54</td>\n",
       "      <td>40</td>\n",
       "      <td>Continuous Integration System for a Python Cod...</td>\n",
       "      <td>&lt;p&gt;I'm starting work on a hobby project with a...</td>\n",
       "      <td>7.0</td>\n",
       "      <td>['python', 'continuous-integration', 'extreme-...</td>\n",
       "      <td>I'm starting work on a hobby project with a py...</td>\n",
       "      <td>0</td>\n",
       "      <td>2008</td>\n",
       "    </tr>\n",
       "    <tr>\n",
       "      <th>3</th>\n",
       "      <td>594</td>\n",
       "      <td>116.0</td>\n",
       "      <td>2008-08-03 01:15:08</td>\n",
       "      <td>25</td>\n",
       "      <td>cx_Oracle: How do I iterate over a result set?</td>\n",
       "      <td>&lt;p&gt;There are several ways to iterate over a re...</td>\n",
       "      <td>3.0</td>\n",
       "      <td>['python', 'sql', 'database', 'oracle', 'cx-or...</td>\n",
       "      <td>There are several ways to iterate over a resul...</td>\n",
       "      <td>0</td>\n",
       "      <td>2008</td>\n",
       "    </tr>\n",
       "    <tr>\n",
       "      <th>4</th>\n",
       "      <td>683</td>\n",
       "      <td>199.0</td>\n",
       "      <td>2008-08-03 13:19:16</td>\n",
       "      <td>28</td>\n",
       "      <td>Using 'in' to match an attribute of Python obj...</td>\n",
       "      <td>&lt;p&gt;I don't remember whether I was dreaming or ...</td>\n",
       "      <td>8.0</td>\n",
       "      <td>['python', 'arrays', 'iteration']</td>\n",
       "      <td>I don't remember whether I was dreaming or not...</td>\n",
       "      <td>1</td>\n",
       "      <td>2008</td>\n",
       "    </tr>\n",
       "  </tbody>\n",
       "</table>\n",
       "</div>"
      ],
      "text/plain": [
       "    Id  OwnerUserId        CreationDate  Score  \\\n",
       "0  469        147.0 2008-08-02 15:11:16     21   \n",
       "1  502        147.0 2008-08-02 17:01:58     27   \n",
       "2  535        154.0 2008-08-02 18:43:54     40   \n",
       "3  594        116.0 2008-08-03 01:15:08     25   \n",
       "4  683        199.0 2008-08-03 13:19:16     28   \n",
       "\n",
       "                                               Title  \\\n",
       "0  How can I find the full path to a font from it...   \n",
       "1            Get a preview JPEG of a PDF on Windows?   \n",
       "2  Continuous Integration System for a Python Cod...   \n",
       "3     cx_Oracle: How do I iterate over a result set?   \n",
       "4  Using 'in' to match an attribute of Python obj...   \n",
       "\n",
       "                                                Body  Number of Answers  \\\n",
       "0  <p>I am using the Photoshop's javascript API t...                4.0   \n",
       "1  <p>I have a cross-platform (Python) applicatio...                3.0   \n",
       "2  <p>I'm starting work on a hobby project with a...                7.0   \n",
       "3  <p>There are several ways to iterate over a re...                3.0   \n",
       "4  <p>I don't remember whether I was dreaming or ...                8.0   \n",
       "\n",
       "                                                Tags  \\\n",
       "0            ['python', 'osx', 'fonts', 'photoshop']   \n",
       "1              ['python', 'windows', 'image', 'pdf']   \n",
       "2  ['python', 'continuous-integration', 'extreme-...   \n",
       "3  ['python', 'sql', 'database', 'oracle', 'cx-or...   \n",
       "4                  ['python', 'arrays', 'iteration']   \n",
       "\n",
       "                                           full_text  is_code_present  year  \n",
       "0  I am using the Photoshop's javascript API to f...                0  2008  \n",
       "1  I have a cross-platform (Python) application w...                0  2008  \n",
       "2  I'm starting work on a hobby project with a py...                0  2008  \n",
       "3  There are several ways to iterate over a resul...                0  2008  \n",
       "4  I don't remember whether I was dreaming or not...                1  2008  "
      ]
     },
     "execution_count": 7,
     "metadata": {},
     "output_type": "execute_result"
    }
   ],
   "source": [
    "data.head()"
   ]
  },
  {
   "cell_type": "markdown",
   "metadata": {},
   "source": [
    "# Defining a new list of stopwords\n",
    "\n",
    "Here is a list of stopwords that I found from [here](http://www.ranks.nl/stopwords). On top of this, I also add a few stop words that are applicable in our case e.g. python"
   ]
  },
  {
   "cell_type": "code",
   "execution_count": 17,
   "metadata": {
    "collapsed": false
   },
   "outputs": [],
   "source": [
    "stop_words = ['a', 'able', 'about', 'above', 'abst', 'accordance', 'according', 'accordingly', 'across', 'act', 'actually', 'added', 'adj', 'affected', 'affecting', 'affects', 'after', 'afterwards', 'again', 'against', 'ah', 'all', 'almost', 'alone', 'along', 'already', 'also', 'although', 'always', 'am', 'among', 'amongst', 'an', 'and', 'announce', 'another', 'any', 'anybody', 'anyhow', 'anymore', 'anyone', 'anything', 'anyway', 'anyways', 'anywhere', 'apparently', 'approximately', 'are', 'aren', 'arent', 'arise', 'around', 'as', 'aside', 'ask', 'asking', 'at', 'auth', 'available', 'away', 'awfully', 'b', 'back', 'be', 'became', 'because', 'become', 'becomes', 'becoming', 'been', 'before', 'beforehand', 'begin', 'beginning', 'beginnings', 'begins', 'behind', 'being', 'believe', 'below', 'beside', 'besides', 'between', 'beyond', 'biol', 'both', 'brief', 'briefly', 'but', 'by', 'c', 'ca', 'came', 'can', 'cannot', \"can't\", 'cause', 'causes', 'certain', 'certainly', 'co', 'com', 'come', 'comes', 'contain', 'containing', 'contains', 'could', 'couldnt', 'd', 'date', 'did', \"didn't\", 'different', 'do', 'does', \"doesn't\", 'doing', 'done', \"don't\", 'down', 'downwards', 'due', 'during', 'e', 'each', 'ed', 'edu', 'effect', 'eg', 'eight', 'eighty', 'either', 'else', 'elsewhere', 'end', 'ending', 'enough', 'especially', 'et', 'et - al', 'etc', 'even', 'ever', 'every', 'everybody', 'everyone', 'everything', 'everywhere', 'ex', 'except', 'f', 'far', 'few', 'ff', 'fifth', 'first', 'five', 'fix', 'followed', 'following', 'follows', 'for', 'former', 'formerly', 'forth', 'found', 'four', 'from', 'further', 'furthermore', 'g', 'gave', 'get', 'gets', 'getting', 'give', 'given', 'gives', 'giving', 'go', 'goes', 'gone', 'got', 'gotten', 'h', 'had', 'happens', 'hardly', 'has', \"hasn't\", 'have', \"haven't\", 'having', 'he', 'hed', 'hence', 'her', 'here', 'hereafter', 'hereby', 'herein', 'heres', 'hereupon', 'hers', 'herself', 'hes', 'hi', 'hid', 'him', 'himself', 'his', 'hither', 'home', 'how', 'howbeit', 'however', 'hundred', 'i', 'id', 'ie', 'if', \"i'll\", 'im', 'immediate', 'immediately', 'importance', 'important', 'in', 'inc', 'indeed', 'index', 'information', 'instead', 'into', 'invention', 'inward', 'is', \"isn't\", 'it', 'itd', \"it'll\", 'its', 'itself', \"i've\", 'j', 'just', 'k', 'keep\\tkeeps', 'kept', 'kg', 'km', 'know', 'known', 'knows', 'l', 'largely', 'last', 'lately', 'later', 'latter', 'latterly', 'least', 'less', 'lest', 'let', 'lets', 'like', 'liked', 'likely', 'line', 'little', \"'ll\", 'look', 'looking', 'looks', 'ltd', 'm', 'made', 'mainly', 'make', 'makes', 'many', 'may', 'maybe', 'me', 'mean', 'means', 'meantime', 'meanwhile', 'merely', 'mg', 'might', 'million', 'miss', 'ml', 'more', 'moreover', 'most', 'mostly', 'mr', 'mrs', 'much', 'mug', 'must', 'my', 'myself', 'n', 'na', 'name', 'namely', 'nay', 'nd', 'near', 'nearly', 'necessarily', 'necessary', 'need', 'needs', 'neither', 'never', 'nevertheless', 'new', 'next', 'nine', 'ninety', 'no', 'nobody', 'non', 'none', 'nonetheless', 'noone', 'nor', 'normally', 'nos', 'not', 'noted', 'nothing', 'now', 'nowhere', 'o', 'obtain', 'obtained', 'obviously', 'of', 'off', 'often', 'oh', 'ok', 'okay', 'old', 'omitted', 'on', 'once', 'one', 'ones', 'only', 'onto', 'or', 'ord', 'other', 'others', 'otherwise', 'ought', 'our', 'ours', 'ourselves', 'out', 'outside', 'over', 'overall', 'owing', 'own', 'p', 'page', 'pages', 'part', 'particular', 'particularly', 'past', 'per', 'perhaps', 'placed', 'please', 'plus', 'poorly', 'possible', 'possibly', 'potentially', 'pp', 'predominantly', 'present', 'previously', 'primarily', 'probably', 'promptly', 'proud', 'provides', 'put', 'q', 'que', 'quickly', 'quite', 'qv', 'r', 'ran', 'rather', 'rd', 're', 'readily', 'really', 'recent', 'recently', 'ref', 'refs', 'regarding', 'regardless', 'regards', 'related', 'relatively', 'research', 'respectively', 'resulted', 'resulting', 'results', 'right', 'run', 's', 'said', 'same', 'saw', 'say', 'saying', 'says', 'sec', 'section', 'see', 'seeing', 'seem', 'seemed', 'seeming', 'seems', 'seen', 'self', 'selves', 'sent', 'seven', 'several', 'shall', 'she', 'shed', \"she'll\", 'shes', 'should', \"shouldn't\", 'show', 'showed', 'shown', 'showns', 'shows', 'significant', 'significantly', 'similar', 'similarly', 'since', 'six', 'slightly', 'so', 'some', 'somebody', 'somehow', 'someone', 'somethan', 'something', 'sometime', 'sometimes', 'somewhat', 'somewhere', 'soon', 'sorry', 'specifically', 'specified', 'specify', 'specifying', 'still', 'stop', 'strongly', 'sub', 'substantially', 'successfully', 'such', 'sufficiently', 'suggest', 'sup', 'sure\\tt', 'take', 'taken', 'taking', 'tell', 'tends', 'th', 'than', 'thank', 'thanks', 'thanx', 'that', \"that'll\", 'thats', \"that've\", 'the', 'their', 'theirs', 'them', 'themselves', 'then', 'thence', 'there', 'thereafter', 'thereby', 'thered', 'therefore', 'therein', \"there'll\", 'thereof', 'therere', 'theres', 'thereto', 'thereupon', \"there've\", 'these', 'they', 'theyd', \"they'll\", 'theyre', \"they've\", 'think', 'this', 'those', 'thou', 'though', 'thoughh', 'thousand', 'throug', 'through', 'throughout', 'thru', 'thus', 'til', 'tip', 'to', 'together', 'too', 'took', 'toward', 'towards', 'tried', 'tries', 'truly', 'try', 'trying', 'ts', 'twice', 'two', 'u', 'un', 'under', 'unfortunately', 'unless', 'unlike', 'unlikely', 'until', 'unto', 'up', 'upon', 'ups', 'us', 'use', 'used', 'useful', 'usefully', 'usefulness', 'uses', 'using', 'usually', 'v', 'value', 'various', \"'ve\", 'very', 'via', 'viz', 'vol', 'vols', 'vs', 'w', 'want', 'wants', 'was', 'wasnt', 'way', 'we', 'wed', 'welcome', \"we'll\", 'went', 'were', 'werent', \"we've\", 'what', 'whatever', \"what'll\", 'whats', 'when', 'whence', 'whenever', 'where', 'whereafter', 'whereas', 'whereby', 'wherein', 'wheres', 'whereupon', 'wherever', 'whether', 'which', 'while', 'whim', 'whither', 'who', 'whod', 'whoever', 'whole', \"who'll\", 'whom', 'whomever', 'whos', 'whose', 'why', 'widely', 'willing', 'wish', 'with', 'within', 'without', 'wont', 'words', 'world', 'would', 'wouldnt', 'www', 'x', 'y', 'yes', 'yet', 'you', 'youd', \"you'll\", 'your', 'youre', 'yours', 'yourself', 'yourselves', \"you've\", 'z', 'zero']\n",
    "python_stop_words = ['python', 'scripts', 'script', 'code', 'py', 'doesn', 'work', 'works', 'fine', 'don', 'help']\n",
    "stop_words.extend(python_stop_words)\n",
    "\n",
    "# Converting into frozenset (sklearn requierement)\n",
    "total_stop_words = frozenset(stop_words)"
   ]
  },
  {
   "cell_type": "code",
   "execution_count": 18,
   "metadata": {
    "collapsed": false
   },
   "outputs": [
    {
     "name": "stdout",
     "output_type": "stream",
     "text": [
      "frozenset({'seemed', \"haven't\", 'vols', 'world', 'myself', 'shes', 'still', 'successfully', 'once', 'hereafter', 'mg', 'knows', 'fifth', 'he', 'out', \"what'll\", 'particularly', 'happens', 'where', 'please', 'may', 'wish', 'ones', 'abst', 'across', 'often', 'ord', 'cannot', 'every', \"we'll\", 'look', 'see', 'specify', 'around', 'w', 'theyd', 'getting', 'up', 'becomes', 'than', 'whereupon', 'immediately', 'causes', 'looking', 'somewhat', 'code', 'briefly', 'announce', 'but', 'mean', 'former', 'eg', 'lately', 'beside', 'oh', 'wont', 'beginnings', 'them', 'h', 'do', 'f', 'show', 'begins', 'whence', 'am', 'keep\\tkeeps', 'they', 'fine', 'comes', 'are', 'line', 'of', 'ff', 'whereas', 'amongst', 'should', 'above', 'most', 'beginning', 'his', 'r', 'affected', 'etc', 'act', 'otherwise', 'be', 'because', 'need', 'toward', 'im', 'until', 'auth', 'obtain', 'who', 'gave', 'value', 'fix', 'til', 'similar', 'following', \"you've\", 'm', 'it', 'is', 'hence', 'sure\\tt', 'take', 'sup', 'giving', 'couldnt', 'works', 'an', 'biol', 'himself', 'related', 'seems', 'saying', 'her', 'meanwhile', 'afterwards', 'hi', 'many', 'instead', 'down', 'ever', 'home', 'recent', 'therein', 'part', 'this', 'zero', 'always', \"they'll\", 'showed', 'those', 'no', 'went', 'would', 'readily', 'eighty', 'selves', 'thereupon', \"i've\", 'though', 'noone', 'edu', 'plus', 'results', 'sub', 'away', 'known', 'hers', 'wouldnt', 'que', 'towards', 'taking', 'nos', 'without', 'ought', 'gets', 'their', 'anyhow', 'our', 'you', 'na', 'only', 'whos', 'off', 'after', 'thered', 'another', 'hereby', 'q', 'anyway', 'other', 'whither', 'more', 'vs', 'enough', 'therefore', \"there've\", 'whomever', 'then', 'does', 'too', 'although', 'least', 'seen', 'ask', 'elsewhere', 'nine', 'nowhere', 'being', 'e', 'which', 'your', 'probably', 'so', 'own', 'gives', 'very', 'itself', 'thats', 'py', 'one', 'furthermore', 'along', 'under', 'hed', 'km', 'p', 'nor', 'per', 'quite', 'invention', 'doing', 'little', 'self', 'that', 'says', 'get', 'hid', 'these', 'showns', 'saw', 'research', 'information', 'over', 'therere', 'thence', 'y', 'almost', 'certainly', 'somebody', 'nearly', 'likely', 'script', 'during', 'before', 'ok', 'ours', 'anybody', 'twice', 'specifying', 'old', 'none', 'run', 'non', 'give', 'nay', 'meantime', 'whose', 'why', 'trying', 'been', 'taken', 'think', 'significantly', 'available', 'effect', 'name', 'below', 'uses', 'far', 'did', 'indeed', 'contains', 'much', 'youd', 'some', 'what', 'unless', 'noted', 'put', 's', 'suggest', 'from', 'same', 'particular', 'sec', 'gone', 'thereto', 'follows', 'shows', 'never', \"doesn't\", \"you'll\", 'nothing', 'nonetheless', 'about', 'know', 'werent', 'as', 'against', 'ah', 'already', 'right', 'thoughh', 'for', 'when', 'she', 'pp', 'affects', 'tried', 'believe', 'can', 'date', 'whereafter', 'c', 'anywhere', 'nobody', 'else', 'nevertheless', 'got', 'qv', 'unto', 'approximately', 'able', 'all', 'l', 'come', \"hasn't\", 'shown', 'hundred', 'anything', 'make', 'quickly', 'sometime', 'the', 'z', 'want', 'added', 'done', 'everybody', 'neither', \"there'll\", 'whether', 'whats', \"don't\", 'way', 'four', 'wants', 'outside', 'gotten', 'hither', 'also', 'cause', 'everyone', 'last', 'regardless', 'means', 'there', 'index', \"who'll\", 'rather', 'mug', 'okay', 'python', 'accordance', 'certain', 'makes', 'let', 'sent', 'www', 'substantially', 'containing', 'o', 'perhaps', 'soon', 'us', 'vol', 'refs', 'by', 'potentially', 'ed', 'thanks', 'thank', 'thereafter', 'with', 'ending', 'if', 'previously', 'v', 'made', 'later', 'latterly', 'ups', 'near', 'work', 'tends', 'x', 'whim', 'themselves', 'took', 'however', 'ltd', 'seven', \"'ll\", 'shall', 'sorry', 'tries', 'now', 'someone', 'id', 'upon', 'apparently', 'contain', 'onto', 'viz', 'n', 'significant', 'immediate', 'respectively', 'used', 'itd', \"she'll\", 'thru', 'like', 'go', 'since', 'try', 'both', 'given', 'and', 'anyone', 'whenever', 'goes', 'theyre', 'due', 'throug', 'don', 'maybe', 'lest', 'obviously', 'welcome', 'thousand', 'brief', \"that'll\", 'must', 'ts', 'rd', 'we', 'yourself', 'd', 'have', 'ml', 'various', 'words', 'became', 'everything', \"i'll\", 'provides', 'behind', 'something', 'present', 'hes', 'sufficiently', 'herein', 'yourselves', 'ninety', 'whod', 'first', 'even', 'its', 'g', 'become', 'either', 'beforehand', 'any', 'merely', 'use', 'specified', 'i', 'u', 'less', 'yet', 'wherever', 'throughout', 'had', 'further', \"'ve\", \"we've\", 'him', 'according', 'seeing', 'six', 'a', 'poorly', 'whole', 'important', 'doesn', 'th', 'page', 'might', 'obtained', 'via', 'into', 'eight', 'theirs', 'whereby', 'possible', 'has', 'me', 'slightly', 'somethan', 'possibly', 'beyond', 'wherein', 'shed', 'end', 'actually', 'together', 'aren', 'not', 'sometimes', 'necessary', 'inc', 'while', 'ca', 'between', 'predominantly', 'thereby', 'kept', 'really', 'heres', 'found', 'overall', 'through', 'besides', 'becoming', 'past', 're', 'j', 'followed', 'ie', 'somewhere', 'few', 'latter', 'largely', \"shouldn't\", 'mainly', \"they've\", 'my', \"that've\", 'liked', 'wheres', 'among', 'back', 'help', 'arent', 'k', 'moreover', 'tip', 'howbeit', 'scripts', 'just', 'truly', 'mr', 'except', 'whom', 'com', 'here', 'wed', 'importance', 'resulted', 'several', 'usefulness', \"it'll\", 'such', 'needs', 'on', 'adj', 'somehow', 'resulting', 'placed', 'unlike', 'five', 'theres', 'youre', 'alone', 'relatively', 'seem', 'lets', 'each', 'asking', 'everywhere', 'recently', 'tell', 'useful', 'b', 'in', 'could', 'new', 'say', 'or', 'ex', 'especially', 'anyways', 'yours', 'to', 'whatever', 'section', \"can't\", 'having', \"isn't\", 'was', 'were', 'hardly', 'nd', 'accordingly', 'co', 'unfortunately', 'specifically', 'anymore', 'proud', 'again', 'using', 'how', 'wasnt', 'namely', 'et - al', 'ref', 'formerly', 'awfully', 'looks', 'at', 'million', 'aside', 'whoever', 'mostly', 'others', 'strongly', 'owing', 'primarily', 'omitted', 'promptly', 'arise', 'hereupon', 'within', 'thus', 'usually', 'miss', 'willing', 'forth', 'seeming', 'kg', \"didn't\", 'regards', 'stop', 'pages', 'herself', 'thou', 'normally', 'mrs', 'ran', 'similarly', 'came', 'thanx', 'un', 'said', 'widely', 'usefully', 'affecting', 'two', 'regarding', 'different', 'unlikely', 'et', 'begin', 'necessarily', 'thereof', 'ourselves', 'yes', 'inward', 'downwards', 'next'})\n"
     ]
    }
   ],
   "source": [
    "print(total_stop_words)"
   ]
  },
  {
   "cell_type": "markdown",
   "metadata": {},
   "source": [
    "# Visualisation Time!\n",
    "\n",
    "We will reuse the code from previous section but with this new list of stopwords\n",
    "\n",
    "# Popular Phrases 2016"
   ]
  },
  {
   "cell_type": "code",
   "execution_count": 9,
   "metadata": {
    "collapsed": true
   },
   "outputs": [],
   "source": [
    "%matplotlib inline\n",
    "import seaborn as sns\n",
    "import numpy as np\n",
    "from wordcloud import WordCloud\n",
    "from sklearn.feature_extraction.text import CountVectorizer"
   ]
  },
  {
   "cell_type": "code",
   "execution_count": null,
   "metadata": {
    "collapsed": false
   },
   "outputs": [],
   "source": [
    "vect = CountVectorizer(min_df=2, max_df=0.8, stop_words=total_stop_words, ngram_range=(2,3))\n",
    "input_data = data['full_text'][data['year'] == 2016]\n",
    "\n",
    "text_dtm = vect.fit_transform(input_data)\n",
    "\n",
    "word_freq_df = pd.DataFrame({'term': vect.get_feature_names(), 'occurrences':np.asarray(text_dtm.sum(axis=0)).ravel().tolist()})\n",
    "\n",
    "wc = WordCloud(width=1920, height=1080, scale=1,\n",
    "               min_font_size=18, margin=20, \n",
    "               random_state=27,\n",
    "               background_color='#111')\n",
    "wc.generate_from_frequencies(zip(word_freq_df['term'], word_freq_df['occurrences']))\n",
    "sns.plt.figure( figsize=(16,8) ) \n",
    "sns.plt.axis(\"off\")\n",
    "sns.plt.imshow(wc)"
   ]
  },
  {
   "cell_type": "markdown",
   "metadata": {},
   "source": [
    "# Popular Phrases 2015"
   ]
  },
  {
   "cell_type": "code",
   "execution_count": null,
   "metadata": {
    "collapsed": true
   },
   "outputs": [],
   "source": [
    "vect = CountVectorizer(min_df=2, max_df=0.8, stop_words=total_stop_words, ngram_range=(2,3))\n",
    "input_data = data['full_text'][data['year'] == 2015]\n",
    "\n",
    "text_dtm = vect.fit_transform(input_data)\n",
    "\n",
    "word_freq_df = pd.DataFrame({'term': vect.get_feature_names(), 'occurrences':np.asarray(text_dtm.sum(axis=0)).ravel().tolist()})\n",
    "\n",
    "wc = WordCloud(width=1920, height=1080, scale=1,\n",
    "               min_font_size=18, margin=20, \n",
    "               random_state=27,\n",
    "               background_color='#111')\n",
    "wc.generate_from_frequencies(zip(word_freq_df['term'], word_freq_df['occurrences']))\n",
    "sns.plt.figure( figsize=(16,8) ) \n",
    "sns.plt.axis(\"off\")\n",
    "sns.plt.imshow(wc)"
   ]
  },
  {
   "cell_type": "markdown",
   "metadata": {},
   "source": [
    "# Popular Phrases 2014"
   ]
  },
  {
   "cell_type": "code",
   "execution_count": null,
   "metadata": {
    "collapsed": true
   },
   "outputs": [],
   "source": []
  },
  {
   "cell_type": "markdown",
   "metadata": {},
   "source": [
    "# Popular Phrases 2013"
   ]
  },
  {
   "cell_type": "code",
   "execution_count": null,
   "metadata": {
    "collapsed": true
   },
   "outputs": [],
   "source": []
  },
  {
   "cell_type": "markdown",
   "metadata": {},
   "source": [
    "# Popular Phrases 2012"
   ]
  },
  {
   "cell_type": "code",
   "execution_count": null,
   "metadata": {
    "collapsed": true
   },
   "outputs": [],
   "source": []
  },
  {
   "cell_type": "markdown",
   "metadata": {},
   "source": [
    "# Popular Phrases 2011"
   ]
  },
  {
   "cell_type": "code",
   "execution_count": null,
   "metadata": {
    "collapsed": true
   },
   "outputs": [],
   "source": []
  }
 ],
 "metadata": {
  "kernelspec": {
   "display_name": "Python 3",
   "language": "python",
   "name": "python3"
  },
  "language_info": {
   "codemirror_mode": {
    "name": "ipython",
    "version": 3
   },
   "file_extension": ".py",
   "mimetype": "text/x-python",
   "name": "python",
   "nbconvert_exporter": "python",
   "pygments_lexer": "ipython3",
   "version": "3.5.2"
  }
 },
 "nbformat": 4,
 "nbformat_minor": 2
}
